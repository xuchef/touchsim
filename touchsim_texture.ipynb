{
 "cells": [
  {
   "cell_type": "code",
   "execution_count": null,
   "metadata": {},
   "outputs": [],
   "source": [
    "import touchsim as ts\n",
    "from touchsim.plotting import plot\n",
    "import numpy as np\n",
    "import holoviews as hv # import holoviews package for plots and set some parameters\n",
    "hv.notebook_extension()"
   ]
  },
  {
   "cell_type": "markdown",
   "metadata": {},
   "source": [
    "### Afferent Population"
   ]
  },
  {
   "cell_type": "code",
   "execution_count": null,
   "metadata": {},
   "outputs": [],
   "source": [
    "a = ts.affpop_hand()\n",
    "\n",
    "plot(a)"
   ]
  },
  {
   "cell_type": "markdown",
   "metadata": {},
   "source": [
    "### Texture"
   ]
  },
  {
   "cell_type": "code",
   "execution_count": null,
   "metadata": {},
   "outputs": [],
   "source": [
    "texture = ts.Texture(filename=\"textures/rock.jpg\", size=(500, 500), max_height=1)\n",
    "\n",
    "plot(texture, resolution=100)\n"
   ]
  },
  {
   "cell_type": "markdown",
   "metadata": {},
   "source": [
    "### Path"
   ]
  },
  {
   "cell_type": "code",
   "execution_count": null,
   "metadata": {},
   "outputs": [],
   "source": [
    "num_samples = 600\n",
    "\n",
    "x = np.full(num_samples, texture.shape[0] / 4)\n",
    "y = np.linspace(texture.shape[1] / 4, texture.shape[1] * 3 / 4, num_samples)\n",
    "path = np.column_stack((x, y))\n",
    "\n",
    "plot(texture, locs=path)"
   ]
  },
  {
   "cell_type": "markdown",
   "metadata": {},
   "source": [
    "### Stimulus"
   ]
  },
  {
   "cell_type": "code",
   "execution_count": null,
   "metadata": {},
   "outputs": [],
   "source": [
    "pins = ts.shape_hand(region=\"D2d_t\", pins_per_mm=1)\n",
    "s = ts.stim_texture_indextip(texture, path, pins, depth=0.1, theta=0)\n",
    "\n",
    "plot(s)"
   ]
  },
  {
   "cell_type": "code",
   "execution_count": null,
   "metadata": {},
   "outputs": [],
   "source": [
    "plot(region='D2d') * plot(s,spatial=True,bin=10)"
   ]
  },
  {
   "cell_type": "markdown",
   "metadata": {},
   "source": [
    "### Response"
   ]
  },
  {
   "cell_type": "code",
   "execution_count": null,
   "metadata": {},
   "outputs": [],
   "source": [
    "r = a.response(s)\n",
    "print(r)"
   ]
  },
  {
   "cell_type": "code",
   "execution_count": null,
   "metadata": {},
   "outputs": [],
   "source": [
    "plot(s) + plot(r) + plot() * plot(r,spatial=True)"
   ]
  },
  {
   "cell_type": "code",
   "execution_count": null,
   "metadata": {},
   "outputs": [],
   "source": [
    "plot() * plot(r,spatial=True,bin=10)"
   ]
  }
 ],
 "metadata": {
  "kernelspec": {
   "display_name": "touchsim",
   "language": "python",
   "name": "python3"
  },
  "language_info": {
   "codemirror_mode": {
    "name": "ipython",
    "version": 3
   },
   "file_extension": ".py",
   "mimetype": "text/x-python",
   "name": "python",
   "nbconvert_exporter": "python",
   "pygments_lexer": "ipython3",
   "version": "3.9.16"
  },
  "orig_nbformat": 4
 },
 "nbformat": 4,
 "nbformat_minor": 2
}
